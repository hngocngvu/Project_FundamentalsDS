{
 "cells": [
  {
   "cell_type": "code",
   "execution_count": null,
   "id": "0f67e5dc",
   "metadata": {},
   "outputs": [],
   "source": [
    "import pandas_datareader.data as web\n",
    "import datetime\n",
    "import pandas as pd\n",
    "\n",
    "# Thời gian\n",
    "start = datetime.datetime(2002, 1, 1)\n",
    "end   = datetime.datetime(2025, 9, 13)\n",
    "\n",
    "unrate   = web.DataReader(\"UNRATE\", \"fred\", start, end)       # Unemployment Rate\n",
    "fedfunds = web.DataReader(\"FEDFUNDS\", \"fred\", start, end)     # Federal Funds Rate\n",
    "cpi      = web.DataReader(\"CPIAUCSL\", \"fred\", start, end)     # CPI (All Urban Consumers)\n",
    "\n",
    "# =======================\n",
    "# Treasury yields (nhiều kỳ hạn)\n",
    "# =======================\n",
    "tickers = [\"DGS1MO\",\"DGS3MO\",\"DGS6MO\",\"DGS1\",\"DGS2\",\"DGS3\",\n",
    "           \"DGS5\",\"DGS7\",\"DGS10\",\"DGS20\",\"DGS30\"]\n",
    "\n",
    "treasury = pd.DataFrame()\n",
    "for t in tickers:\n",
    "    treasury[t] = web.DataReader(t, \"fred\", start, end)\n",
    "\n",
    "# =======================\n",
    "# Merge tất cả\n",
    "# =======================\n",
    "df = pd.concat([unrate, fedfunds, cpi, treasury], axis=1)\n",
    "df.columns = [\"UNRATE\", \"FEDFUNDS\", \"CPI\"] + tickers\n",
    "\n",
    "\n",
    "# Xuất CSV\n",
    "output_file = \"macro_treasury_full_2000.csv\"\n",
    "df.to_csv(output_file, index=True)\n"
   ]
  }
 ],
 "metadata": {
  "kernelspec": {
   "display_name": "base",
   "language": "python",
   "name": "python3"
  },
  "language_info": {
   "codemirror_mode": {
    "name": "ipython",
    "version": 3
   },
   "file_extension": ".py",
   "mimetype": "text/x-python",
   "name": "python",
   "nbconvert_exporter": "python",
   "pygments_lexer": "ipython3",
   "version": "3.13.5"
  }
 },
 "nbformat": 4,
 "nbformat_minor": 5
}
